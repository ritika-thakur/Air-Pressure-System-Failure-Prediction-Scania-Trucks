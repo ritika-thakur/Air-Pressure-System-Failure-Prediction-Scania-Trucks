{
 "cells": [
  {
   "cell_type": "code",
   "execution_count": 1,
   "metadata": {},
   "outputs": [],
   "source": [
    "import pandas as pd\n",
    "\n",
    "import numpy as np\n",
    "\n",
    "import scipy.stats as s\n",
    "\n",
    "import matplotlib.pyplot as plt\n",
    "\n",
    "import seaborn as sns\n",
    "\n",
    "from sklearn.impute import SimpleImputer\n",
    "\n",
    "from Gaussian_Naive_Bayes import gaussian_nb\n",
    "\n",
    "from imblearn.over_sampling import SMOTE\n",
    "\n",
    "from sklearn.naive_bayes import GaussianNB\n",
    "\n",
    "from sklearn.metrics import classification_report\n",
    "\n",
    "from sklearn.metrics import accuracy_score,precision_score,recall_score"
   ]
  },
  {
   "cell_type": "code",
   "execution_count": 2,
   "metadata": {},
   "outputs": [],
   "source": [
    "data = pd.read_csv(\"./aps_failure_training_set.csv\")"
   ]
  },
  {
   "cell_type": "code",
   "execution_count": 3,
   "metadata": {},
   "outputs": [],
   "source": [
    "class gaussian_nb_scania(gaussian_nb):\n",
    "    \n",
    "    def __init__(xerox_copy, data, non_missing_threshold, split_ratio, apply_pca_or_not, n_principal_components, data_check):\n",
    "        \n",
    "        data.replace(to_replace='na', value=np.nan, inplace = True)\n",
    "        \n",
    "        data.dropna(axis = 1, inplace = True, thresh=int(non_missing_threshold *data.shape[0]))\n",
    "        \n",
    "        xerox_copy.data_labels= data['class']\n",
    "        \n",
    "        imputer = SimpleImputer()\n",
    "\n",
    "        data_array = imputer.fit_transform(X=data.iloc[:,1:])\n",
    "        \n",
    "        data_columns = data.columns\n",
    "        \n",
    "        data = pd.DataFrame(data = data_array, columns = data_columns[1:])\n",
    "        \n",
    "        if data_check == True:\n",
    "            \n",
    "            xerox_copy.data_unique_value_check =  xerox_copy.data_drop_column(data)\n",
    "        \n",
    "        np_array_list = list()\n",
    "\n",
    "        \n",
    "        for column in data.columns:\n",
    "    \n",
    "            data[column] = pd.qcut(x=data[column],q=10,duplicates='drop').cat.codes\n",
    "        \n",
    "            np_array_list.append(np.eye(10,10)[data[column]])\n",
    "            \n",
    "        data_array = np.concatenate(np_array_list, axis=1)\n",
    "        \n",
    "        data = pd.DataFrame(data=data_array)\n",
    "        \n",
    "        data['class'] = xerox_copy.data_labels\n",
    "        \n",
    "        xerox_copy.data = data\n",
    "        \n",
    "        super().__init__(features=data.iloc[:,0:data.shape[1]-1], labels=data['class'], data_split_ratio=split_ratio,\n",
    "                         apply_pca=True, n_components= n_principal_components)\n",
    "        \n",
    "    def data_drop_column(xerox_copy, data):\n",
    "            \n",
    "        for column in data.columns:\n",
    "                \n",
    "            if len(data[column].unique()) == 1:\n",
    "                    \n",
    "                data.drop(columns = [column], inplace=True)\n",
    "                    \n",
    "            else:\n",
    "                    \n",
    "                continue"
   ]
  },
  {
   "cell_type": "code",
   "execution_count": 4,
   "metadata": {},
   "outputs": [],
   "source": [
    "naive_bayes_configs = dict()\n",
    "\n",
    "for non_na_thresh in np.arange(0.7,1,0.1):\n",
    "    \n",
    "    for n_comp in np.arange(20,170,50):\n",
    "        \n",
    "        naive_bayes_configs[(non_na_thresh, n_comp)] = gaussian_nb_scania(data, non_na_thresh, (0.8,0.2,0.0), True, n_comp, True)"
   ]
  },
  {
   "cell_type": "code",
   "execution_count": 5,
   "metadata": {},
   "outputs": [
    {
     "data": {
      "text/plain": [
       "{(0.7, 20): <__main__.gaussian_nb_scania at 0x1e6f9895c18>,\n",
       " (0.7, 70): <__main__.gaussian_nb_scania at 0x1e6f6dddc88>,\n",
       " (0.7, 120): <__main__.gaussian_nb_scania at 0x1e6f0e01978>,\n",
       " (0.7999999999999999, 20): <__main__.gaussian_nb_scania at 0x1e688d65668>,\n",
       " (0.7999999999999999, 70): <__main__.gaussian_nb_scania at 0x1e6fa8392e8>,\n",
       " (0.7999999999999999, 120): <__main__.gaussian_nb_scania at 0x1e6f975f128>,\n",
       " (0.8999999999999999, 20): <__main__.gaussian_nb_scania at 0x1e6fd0acb38>,\n",
       " (0.8999999999999999, 70): <__main__.gaussian_nb_scania at 0x1e6834a40f0>,\n",
       " (0.8999999999999999, 120): <__main__.gaussian_nb_scania at 0x1e681c0f080>,\n",
       " (0.9999999999999999, 20): <__main__.gaussian_nb_scania at 0x1e6f9f50eb8>,\n",
       " (0.9999999999999999, 70): <__main__.gaussian_nb_scania at 0x1e6f44ca4e0>,\n",
       " (0.9999999999999999, 120): <__main__.gaussian_nb_scania at 0x1e681334860>}"
      ]
     },
     "execution_count": 5,
     "metadata": {},
     "output_type": "execute_result"
    }
   ],
   "source": [
    "naive_bayes_configs"
   ]
  },
  {
   "cell_type": "code",
   "execution_count": 6,
   "metadata": {},
   "outputs": [],
   "source": [
    "naive_bayes =list()\n",
    "\n",
    "cv_data_list = list()\n",
    "\n",
    "\n",
    "for obj in naive_bayes_configs.values():\n",
    "    \n",
    "    X_resampled, y_resampled = SMOTE(sampling_strategy='minority').fit_sample(X = obj.X_new , y=data['class'])\n",
    "    \n",
    "    data_resampled = pd.DataFrame(data = X_resampled)\n",
    "    \n",
    "    data_resampled['class'] = data['class']\n",
    "    \n",
    "    train_data, cv_data, test_data = obj.data_splitting(data_resampled)\n",
    "    \n",
    "    cv_data_list.append(cv_data)\n",
    "     \n",
    "    naive_bayes.append(GaussianNB().fit(X=np.array(train_data.iloc[:,0:train_data.shape[1]-1]), y = train_data['label']))"
   ]
  },
  {
   "cell_type": "code",
   "execution_count": 7,
   "metadata": {},
   "outputs": [],
   "source": [
    "metrics = dict()\n",
    "\n",
    "for obj,cv_data,config in tuple(zip(naive_bayes,cv_data_list,naive_bayes_configs.keys())):\n",
    "    \n",
    "    predicted_category = obj.predict(X=np.array(cv_data.iloc[:,0:cv_data.shape[1]-1]))\n",
    "    \n",
    "    acc = accuracy_score(y_true=np.array(cv_data['label']),y_pred=predicted_category)\n",
    "    \n",
    "    precision = precision_score(y_true=np.array(cv_data['label']),y_pred=predicted_category, pos_label='pos',zero_division=1)\n",
    "    \n",
    "    recall = recall_score(y_true=np.array(cv_data['label']),y_pred=predicted_category, pos_label='pos',zero_division=1)\n",
    "    \n",
    "    metrics[config] = {'accuracy':acc,'precision':precision,'recall':recall}"
   ]
  },
  {
   "cell_type": "code",
   "execution_count": 8,
   "metadata": {
    "scrolled": true
   },
   "outputs": [
    {
     "data": {
      "text/plain": [
       "{(0.7, 20): {'accuracy': 0.93175, 'precision': 0.0, 'recall': 1.0},\n",
       " (0.7, 70): {'accuracy': 0.9478333333333333, 'precision': 0.0, 'recall': 1.0},\n",
       " (0.7, 120): {'accuracy': 0.9490833333333333, 'precision': 0.0, 'recall': 1.0},\n",
       " (0.7999999999999999, 20): {'accuracy': 0.93675,\n",
       "  'precision': 0.0,\n",
       "  'recall': 1.0},\n",
       " (0.7999999999999999, 70): {'accuracy': 0.9498333333333333,\n",
       "  'precision': 0.0,\n",
       "  'recall': 1.0},\n",
       " (0.7999999999999999, 120): {'accuracy': 0.95475,\n",
       "  'precision': 0.0,\n",
       "  'recall': 1.0},\n",
       " (0.8999999999999999, 20): {'accuracy': 0.9345833333333333,\n",
       "  'precision': 0.0,\n",
       "  'recall': 1.0},\n",
       " (0.8999999999999999, 70): {'accuracy': 0.9474166666666667,\n",
       "  'precision': 0.0,\n",
       "  'recall': 1.0},\n",
       " (0.8999999999999999, 120): {'accuracy': 0.95125,\n",
       "  'precision': 0.0,\n",
       "  'recall': 1.0},\n",
       " (0.9999999999999999, 20): {'accuracy': 0.9145833333333333,\n",
       "  'precision': 0.0,\n",
       "  'recall': 1.0},\n",
       " (0.9999999999999999, 70): {'accuracy': 0.9145833333333333,\n",
       "  'precision': 0.0,\n",
       "  'recall': 1.0},\n",
       " (0.9999999999999999, 120): {'accuracy': 0.9145833333333333,\n",
       "  'precision': 0.0,\n",
       "  'recall': 1.0}}"
      ]
     },
     "execution_count": 8,
     "metadata": {},
     "output_type": "execute_result"
    }
   ],
   "source": [
    "metrics"
   ]
  },
  {
   "cell_type": "markdown",
   "metadata": {},
   "source": [
    "# Test Data"
   ]
  },
  {
   "cell_type": "code",
   "execution_count": 9,
   "metadata": {},
   "outputs": [],
   "source": [
    "test_data = pd.read_csv(\"./aps_failure_test_set.csv\")"
   ]
  },
  {
   "cell_type": "code",
   "execution_count": 13,
   "metadata": {},
   "outputs": [],
   "source": [
    "test_obj = gaussian_nb_scania(test_data, 0.9, (1,0.0,0.0), True, 120, True)"
   ]
  },
  {
   "cell_type": "code",
   "execution_count": 14,
   "metadata": {},
   "outputs": [],
   "source": [
    "test_metrics = dict()\n",
    "\n",
    "predicted_category = naive_bayes[5].predict(X=np.array(test_obj.X_new))\n",
    "\n",
    "acc = accuracy_score(y_true=np.array(test_data['class']),y_pred=predicted_category)\n",
    "\n",
    "precision = precision_score(y_true=np.array(test_data['class']),y_pred=predicted_category,\n",
    "                                 pos_label='pos',zero_division=1)\n",
    "\n",
    "recall = recall_score(y_true=np.array(test_data['class']),y_pred=predicted_category,\n",
    "                                 pos_label='pos',zero_division=1)\n",
    "\n",
    "test_metrics['0.8, 120'] = {'accuracy':acc,'precision':precision,'recall':recall}\n"
   ]
  },
  {
   "cell_type": "code",
   "execution_count": 15,
   "metadata": {},
   "outputs": [
    {
     "data": {
      "text/plain": [
       "{'0.8, 120': {'accuracy': 0.956625,\n",
       "  'precision': 0.32098765432098764,\n",
       "  'recall': 0.7626666666666667}}"
      ]
     },
     "execution_count": 15,
     "metadata": {},
     "output_type": "execute_result"
    }
   ],
   "source": [
    "test_metrics"
   ]
  }
 ],
 "metadata": {
  "kernelspec": {
   "display_name": "Python 3",
   "language": "python",
   "name": "python3"
  },
  "language_info": {
   "codemirror_mode": {
    "name": "ipython",
    "version": 3
   },
   "file_extension": ".py",
   "mimetype": "text/x-python",
   "name": "python",
   "nbconvert_exporter": "python",
   "pygments_lexer": "ipython3",
   "version": "3.7.0"
  }
 },
 "nbformat": 4,
 "nbformat_minor": 2
}
